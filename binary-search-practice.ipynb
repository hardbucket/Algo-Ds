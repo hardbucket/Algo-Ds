{
 "cells": [
  {
   "cell_type": "markdown",
   "id": "70c4fbb5",
   "metadata": {
    "papermill": {
     "duration": 0.008694,
     "end_time": "2022-06-26T10:12:45.914698",
     "exception": false,
     "start_time": "2022-06-26T10:12:45.906004",
     "status": "completed"
    },
    "tags": []
   },
   "source": [
    "# Problem - Rotated Lists\n",
    "\n",
    "We'll solve the following problem step-by-step:\n",
    "\n",
    "> You are given list of numbers, obtained by rotating a sorted list an unknown number of times. Write a function to determine the minimum number of times the original sorted list was rotated to obtain the given list. Your function should have the worst-case complexity of `O(log N)`, where N is the length of the list. You can assume that all the numbers in the list are unique.\n",
    ">\n",
    "> Example: The list `[5, 6, 9, 0, 2, 3, 4]` was obtained by rotating the sorted list `[0, 2, 3, 4, 5, 6, 9]` 3 times.\n",
    ">\n",
    "> We define \"rotating a list\" as removing the last element of the list and adding it before the first element. E.g. rotating the list `[3, 2, 4, 1]` produces `[1, 3, 2, 4]`. \n",
    ">\n",
    ">\"Sorted list\" refers to a list where the elements are arranged in the increasing order  e.g. `[1, 3, 5, 7]`.\n",
    ">"
   ]
  },
  {
   "cell_type": "markdown",
   "id": "86a385fb",
   "metadata": {
    "papermill": {
     "duration": 0.007341,
     "end_time": "2022-06-26T10:12:45.929876",
     "exception": false,
     "start_time": "2022-06-26T10:12:45.922535",
     "status": "completed"
    },
    "tags": []
   },
   "source": [
    "## The Method\n",
    "\n",
    "Here's the systematic strategy we'll apply for solving problems:\n",
    "\n",
    "1. State the problem clearly. Identify the input & output formats.\n",
    "2. Come up with some example inputs & outputs. Try to cover all edge cases.\n",
    "3. Come up with a correct solution for the problem. State it in plain English.\n",
    "4. Implement the solution and test it using example inputs. Fix bugs, if any.\n",
    "5. Analyze the algorithm's complexity and identify inefficiencies, if any.\n",
    "6. Apply the right technique to overcome the inefficiency. Repeat steps 3 to 6.\n"
   ]
  },
  {
   "cell_type": "markdown",
   "id": "c94cec68",
   "metadata": {
    "papermill": {
     "duration": 0.007254,
     "end_time": "2022-06-26T10:12:45.944740",
     "exception": false,
     "start_time": "2022-06-26T10:12:45.937486",
     "status": "completed"
    },
    "tags": []
   },
   "source": [
    "## Solution\n",
    "\n",
    "\n",
    "### 1. State the problem clearly. Identify the input & output formats.\n",
    "\n",
    "While this problem is stated clearly enough, it's always useful to try and express in your own words, in a way that makes it most clear for you. It's perfectly OK if your description overlaps with the original problem statement to a large extent.\n",
    "\n",
    "**Problem**\n",
    "\n",
    ">The problem is having a sorted list that is rotated for number of times. we need to find the number of rotations.\n",
    "\n",
    "**Input**\n",
    "\n",
    ">`nums`: **Actual sorted rotated times.** \n",
    "\n",
    "**Output**\n",
    "\n",
    ">`rotations`: **Estimated rotation times.** \n",
    "\n",
    "\n",
    "Based on the above, we can now create a signature of our function:"
   ]
  },
  {
   "cell_type": "code",
   "execution_count": 1,
   "id": "ac8da651",
   "metadata": {
    "execution": {
     "iopub.execute_input": "2022-06-26T10:12:45.961840Z",
     "iopub.status.busy": "2022-06-26T10:12:45.961411Z",
     "iopub.status.idle": "2022-06-26T10:12:45.971334Z",
     "shell.execute_reply": "2022-06-26T10:12:45.970539Z"
    },
    "papermill": {
     "duration": 0.021112,
     "end_time": "2022-06-26T10:12:45.973450",
     "exception": false,
     "start_time": "2022-06-26T10:12:45.952338",
     "status": "completed"
    },
    "tags": []
   },
   "outputs": [],
   "source": [
    "def count_rotations(nums):\n",
    "    pass"
   ]
  },
  {
   "cell_type": "markdown",
   "id": "db05495d",
   "metadata": {
    "papermill": {
     "duration": 0.007186,
     "end_time": "2022-06-26T10:12:45.988222",
     "exception": false,
     "start_time": "2022-06-26T10:12:45.981036",
     "status": "completed"
    },
    "tags": []
   },
   "source": [
    "### 2. Come up with some example inputs & outputs. Try to cover all edge cases.\n",
    "\n",
    "Our function should be able to handle any set of valid inputs we pass into it. Here's a list of some possible variations we might encounter:\n",
    "\n",
    "1. A list of size 10 rotated 3 times.\n",
    "2. A list of size 8 rotated 5 times.\n",
    "3. A list that wasn't rotated at all.\n",
    "4. A list that was rotated just once. \n",
    "5. A list that was rotated `n-1` times, where `n` is the size of the list.\n",
    "6. A list that was rotated `n` times (do you get back the original list here?)\n",
    "7. An empty list.\n",
    "8. A list containing just one element.\n",
    "\n",
    "We'll express our test cases as dictionaries, to test them easily. Each dictionary will contain 2 keys: `input` (a dictionary itself containing one key for each argument to the function and `output` (the expected result from the function). Here's an example."
   ]
  },
  {
   "cell_type": "code",
   "execution_count": 2,
   "id": "3588af53",
   "metadata": {
    "execution": {
     "iopub.execute_input": "2022-06-26T10:12:46.005943Z",
     "iopub.status.busy": "2022-06-26T10:12:46.005229Z",
     "iopub.status.idle": "2022-06-26T10:12:46.010410Z",
     "shell.execute_reply": "2022-06-26T10:12:46.009654Z"
    },
    "papermill": {
     "duration": 0.016247,
     "end_time": "2022-06-26T10:12:46.012395",
     "exception": false,
     "start_time": "2022-06-26T10:12:45.996148",
     "status": "completed"
    },
    "tags": []
   },
   "outputs": [],
   "source": [
    "test = {'input': {'nums': [ 8, 9, 10, 1, 2, 3, 4, 5, 6, 7]},'output': 3}"
   ]
  },
  {
   "cell_type": "markdown",
   "id": "d8b7e978",
   "metadata": {
    "papermill": {
     "duration": 0.007356,
     "end_time": "2022-06-26T10:12:46.027207",
     "exception": false,
     "start_time": "2022-06-26T10:12:46.019851",
     "status": "completed"
    },
    "tags": []
   },
   "source": [
    "We can test the function by passing the input to it directly or by using the `evaluate_test_case` function from `jovian`."
   ]
  },
  {
   "cell_type": "code",
   "execution_count": 3,
   "id": "a16d5dbc",
   "metadata": {
    "_kg_hide-input": true,
    "_kg_hide-output": true,
    "execution": {
     "iopub.execute_input": "2022-06-26T10:12:46.044406Z",
     "iopub.status.busy": "2022-06-26T10:12:46.043728Z",
     "iopub.status.idle": "2022-06-26T10:12:46.059020Z",
     "shell.execute_reply": "2022-06-26T10:12:46.058262Z"
    },
    "papermill": {
     "duration": 0.026499,
     "end_time": "2022-06-26T10:12:46.061166",
     "exception": false,
     "start_time": "2022-06-26T10:12:46.034667",
     "status": "completed"
    },
    "tags": []
   },
   "outputs": [],
   "source": [
    "\"\"\"\n",
    "Utilities and helper functions for the course \"Data Structures and Algorithms in Python\". \n",
    "Visit http://pythondsa.com to learn more.\n",
    "\"\"\"\n",
    "\n",
    "from timeit import default_timer as timer\n",
    "from textwrap import dedent\n",
    "import math\n",
    "\n",
    "\n",
    "from timeit import default_timer as timer\n",
    "from textwrap import dedent\n",
    "import math\n",
    "\n",
    "\n",
    "def _str_trunc(data, size=100):\n",
    "    data_str = str(data)\n",
    "    if len(data_str) > size + 3:\n",
    "        return data_str[:size] + '...'\n",
    "    return data_str\n",
    "\n",
    "\n",
    "def _show_test_case(test_case):\n",
    "    inputs = test_case['input']\n",
    "\n",
    "    if 'outputs' in test_case:\n",
    "        expected_text = \"Outputs\"\n",
    "        expected = test_case.get('outputs')\n",
    "    else:\n",
    "        expected_text = \"Output\"\n",
    "        expected = test_case.get('output')\n",
    "\n",
    "    print(dedent(\"\"\"\n",
    "    Input:\n",
    "    {}\n",
    "\n",
    "    Expected {}:\n",
    "    {}\n",
    "    \"\"\".format(_str_trunc(inputs), expected_text, _str_trunc(expected))))\n",
    "\n",
    "\n",
    "def _show_result(result):\n",
    "    actual_output, passed, runtime = result\n",
    "    message = \"\\033[92mPASSED\\033[0m\" if passed else \"\\033[91mFAILED\\033[0m\"\n",
    "    print(dedent(\"\"\"\n",
    "    Actual Output:\n",
    "    {}\n",
    "\n",
    "    Execution Time:\n",
    "    {} ms\n",
    "\n",
    "    Test Result:\n",
    "    {}\n",
    "    \"\"\".format(_str_trunc(actual_output), runtime, message)))\n",
    "\n",
    "\n",
    "def evaluate_test_case(function, test_case, display=True):\n",
    "    \"\"\"Check if `function` works as expected for `test_case`\"\"\"\n",
    "    inputs = test_case['input']\n",
    "\n",
    "    if display:\n",
    "        _show_test_case(test_case)\n",
    "\n",
    "    start = timer()\n",
    "    actual_output = function(**inputs)\n",
    "    end = timer()\n",
    "\n",
    "    runtime = math.ceil((end - start)*1e6)/1000\n",
    "    if 'outputs' in test_case:\n",
    "        passed = actual_output in test_case.get('outputs')\n",
    "    else:\n",
    "        passed = actual_output == test_case.get('output')\n",
    "\n",
    "    result = actual_output, passed, runtime\n",
    "\n",
    "    if display:\n",
    "        _show_result(result)\n",
    "\n",
    "    return result\n",
    "\n",
    "\n",
    "def evaluate_test_cases(function, test_cases, error_only=False, summary_only=False):\n",
    "    results = []\n",
    "    for i, test_case in enumerate(test_cases):\n",
    "        if not error_only:\n",
    "            print(\"\\n\\033[1mTEST CASE #{}\\033[0m\".format(i))\n",
    "        result = evaluate_test_case(function, test_case, display=False)\n",
    "        results.append(result)\n",
    "        if error_only and not result[1]:\n",
    "            print(\"\\n\\033[1mTEST CASE #{}\\033[0m\".format(i))\n",
    "        if not error_only or not result[1]:\n",
    "            _show_test_case(test_case)\n",
    "            _show_result(result)\n",
    "\n",
    "    total = len(results)\n",
    "    num_passed = sum([r[1] for r in results])\n",
    "    print(\"\\n\\033[1mSUMMARY\\033[0m\")\n",
    "    print(\"\\nTOTAL: {}, \\033[92mPASSED\\033[0m: {}, \\033[91mFAILED\\033[0m: {}\".format(\n",
    "        total, num_passed, total - num_passed))\n",
    "    return results\n",
    "\n",
    "\n",
    "def binary_search(lo, hi, condition):\n",
    "    while lo <= hi:\n",
    "        mid = (lo + hi) // 2\n",
    "        result = condition(mid)\n",
    "        if result == 'found':\n",
    "            return mid\n",
    "        elif result == 'left':\n",
    "            hi = mid - 1\n",
    "        else:\n",
    "            lo = mid + 1\n",
    "    return -1"
   ]
  },
  {
   "cell_type": "code",
   "execution_count": 4,
   "id": "3d9cb8e9",
   "metadata": {
    "execution": {
     "iopub.execute_input": "2022-06-26T10:12:46.078338Z",
     "iopub.status.busy": "2022-06-26T10:12:46.077659Z",
     "iopub.status.idle": "2022-06-26T10:12:46.086577Z",
     "shell.execute_reply": "2022-06-26T10:12:46.085483Z"
    },
    "papermill": {
     "duration": 0.020109,
     "end_time": "2022-06-26T10:12:46.088762",
     "exception": false,
     "start_time": "2022-06-26T10:12:46.068653",
     "status": "completed"
    },
    "tags": []
   },
   "outputs": [
    {
     "data": {
      "text/plain": [
       "(None, False)"
      ]
     },
     "execution_count": 4,
     "metadata": {},
     "output_type": "execute_result"
    }
   ],
   "source": [
    "nums0 = test['input']['nums']\n",
    "output0 = test['output']\n",
    "result0 = count_rotations(nums0)\n",
    "\n",
    "result0, result0 == output0"
   ]
  },
  {
   "cell_type": "code",
   "execution_count": 5,
   "id": "ad03f80c",
   "metadata": {
    "execution": {
     "iopub.execute_input": "2022-06-26T10:12:46.106080Z",
     "iopub.status.busy": "2022-06-26T10:12:46.105383Z",
     "iopub.status.idle": "2022-06-26T10:12:46.114245Z",
     "shell.execute_reply": "2022-06-26T10:12:46.112766Z"
    },
    "papermill": {
     "duration": 0.020261,
     "end_time": "2022-06-26T10:12:46.116686",
     "exception": false,
     "start_time": "2022-06-26T10:12:46.096425",
     "status": "completed"
    },
    "tags": []
   },
   "outputs": [
    {
     "name": "stdout",
     "output_type": "stream",
     "text": [
      "\n",
      "Input:\n",
      "{'nums': [8, 9, 10, 1, 2, 3, 4, 5, 6, 7]}\n",
      "\n",
      "Expected Output:\n",
      "3\n",
      "\n",
      "\n",
      "Actual Output:\n",
      "None\n",
      "\n",
      "Execution Time:\n",
      "0.002 ms\n",
      "\n",
      "Test Result:\n",
      "\u001b[91mFAILED\u001b[0m\n",
      "\n"
     ]
    },
    {
     "data": {
      "text/plain": [
       "(None, False, 0.002)"
      ]
     },
     "execution_count": 5,
     "metadata": {},
     "output_type": "execute_result"
    }
   ],
   "source": [
    "evaluate_test_case(count_rotations, test)"
   ]
  },
  {
   "cell_type": "markdown",
   "id": "b094d1e3",
   "metadata": {
    "papermill": {
     "duration": 0.008305,
     "end_time": "2022-06-26T10:12:46.132885",
     "exception": false,
     "start_time": "2022-06-26T10:12:46.124580",
     "status": "completed"
    },
    "tags": []
   },
   "source": [
    "Let's create one test case for each of the scenarios listed above. We'll store our test cases in an array called `tests`."
   ]
  },
  {
   "cell_type": "markdown",
   "id": "309f841d",
   "metadata": {
    "papermill": {
     "duration": 0.00744,
     "end_time": "2022-06-26T10:12:46.148048",
     "exception": false,
     "start_time": "2022-06-26T10:12:46.140608",
     "status": "completed"
    },
    "tags": []
   },
   "source": [
    "_**Q: Create proper test cases for each of the scenarios listed above.**_"
   ]
  },
  {
   "cell_type": "code",
   "execution_count": 6,
   "id": "018b1d98",
   "metadata": {
    "execution": {
     "iopub.execute_input": "2022-06-26T10:12:46.165708Z",
     "iopub.status.busy": "2022-06-26T10:12:46.164948Z",
     "iopub.status.idle": "2022-06-26T10:12:46.169739Z",
     "shell.execute_reply": "2022-06-26T10:12:46.168980Z"
    },
    "papermill": {
     "duration": 0.015812,
     "end_time": "2022-06-26T10:12:46.171791",
     "exception": false,
     "start_time": "2022-06-26T10:12:46.155979",
     "status": "completed"
    },
    "tags": []
   },
   "outputs": [],
   "source": [
    "test0 = test"
   ]
  },
  {
   "cell_type": "code",
   "execution_count": 7,
   "id": "9551b03d",
   "metadata": {
    "execution": {
     "iopub.execute_input": "2022-06-26T10:12:46.189290Z",
     "iopub.status.busy": "2022-06-26T10:12:46.188574Z",
     "iopub.status.idle": "2022-06-26T10:12:46.193895Z",
     "shell.execute_reply": "2022-06-26T10:12:46.193075Z"
    },
    "papermill": {
     "duration": 0.016643,
     "end_time": "2022-06-26T10:12:46.196090",
     "exception": false,
     "start_time": "2022-06-26T10:12:46.179447",
     "status": "completed"
    },
    "tags": []
   },
   "outputs": [],
   "source": [
    "# A list of size 8 rotated 5 times.\n",
    "test1 = {'input': {'nums': [6, 7, 8, 9, 10, 1, 2, 3, 4, 5]},'output': 5}"
   ]
  },
  {
   "cell_type": "code",
   "execution_count": 8,
   "id": "461f960e",
   "metadata": {
    "execution": {
     "iopub.execute_input": "2022-06-26T10:12:46.214173Z",
     "iopub.status.busy": "2022-06-26T10:12:46.213433Z",
     "iopub.status.idle": "2022-06-26T10:12:46.218754Z",
     "shell.execute_reply": "2022-06-26T10:12:46.217908Z"
    },
    "papermill": {
     "duration": 0.016604,
     "end_time": "2022-06-26T10:12:46.220813",
     "exception": false,
     "start_time": "2022-06-26T10:12:46.204209",
     "status": "completed"
    },
    "tags": []
   },
   "outputs": [],
   "source": [
    "# A list that wasn't rotated at all.\n",
    "test2 = {'input': {'nums': [1, 2, 3, 4, 5, 6, 7, 8, 9, 10]}, 'output': 0}"
   ]
  },
  {
   "cell_type": "markdown",
   "id": "bec5ad9a",
   "metadata": {
    "papermill": {
     "duration": 0.007653,
     "end_time": "2022-06-26T10:12:46.236373",
     "exception": false,
     "start_time": "2022-06-26T10:12:46.228720",
     "status": "completed"
    },
    "tags": []
   },
   "source": [
    "A list that was rotated just once.\n",
    "A list that was rotated n-1 times, where n is the size of the list.\n",
    "A list that was rotated n times (do you get back the original list here?)\n",
    "An empty list."
   ]
  },
  {
   "cell_type": "code",
   "execution_count": 9,
   "id": "c4500a2a",
   "metadata": {
    "execution": {
     "iopub.execute_input": "2022-06-26T10:12:46.254038Z",
     "iopub.status.busy": "2022-06-26T10:12:46.253381Z",
     "iopub.status.idle": "2022-06-26T10:12:46.257799Z",
     "shell.execute_reply": "2022-06-26T10:12:46.256962Z"
    },
    "papermill": {
     "duration": 0.015643,
     "end_time": "2022-06-26T10:12:46.259675",
     "exception": false,
     "start_time": "2022-06-26T10:12:46.244032",
     "status": "completed"
    },
    "tags": []
   },
   "outputs": [],
   "source": [
    "# list containing just one element.# A list that was rotated just once.\n",
    "test3 = {'input': {'nums': [10, 1, 2, 3, 4, 5, 6, 7, 8, 9]}, 'output': 1}"
   ]
  },
  {
   "cell_type": "code",
   "execution_count": 10,
   "id": "76136eab",
   "metadata": {
    "execution": {
     "iopub.execute_input": "2022-06-26T10:12:46.277706Z",
     "iopub.status.busy": "2022-06-26T10:12:46.277031Z",
     "iopub.status.idle": "2022-06-26T10:12:46.281373Z",
     "shell.execute_reply": "2022-06-26T10:12:46.280495Z"
    },
    "papermill": {
     "duration": 0.016098,
     "end_time": "2022-06-26T10:12:46.283645",
     "exception": false,
     "start_time": "2022-06-26T10:12:46.267547",
     "status": "completed"
    },
    "tags": []
   },
   "outputs": [],
   "source": [
    "# A list that was rotated n-1 times, where n is the size of the list.\n",
    "test4 = {'input': {'nums': [2, 3, 4, 5, 6, 7, 8, 9, 10, 1]}, 'output': 9}"
   ]
  },
  {
   "cell_type": "code",
   "execution_count": 11,
   "id": "926a0e69",
   "metadata": {
    "execution": {
     "iopub.execute_input": "2022-06-26T10:12:46.301202Z",
     "iopub.status.busy": "2022-06-26T10:12:46.300788Z",
     "iopub.status.idle": "2022-06-26T10:12:46.306034Z",
     "shell.execute_reply": "2022-06-26T10:12:46.304925Z"
    },
    "papermill": {
     "duration": 0.016898,
     "end_time": "2022-06-26T10:12:46.308448",
     "exception": false,
     "start_time": "2022-06-26T10:12:46.291550",
     "status": "completed"
    },
    "tags": []
   },
   "outputs": [],
   "source": [
    "# A list that was rotated n times, where n is the size of the list\n",
    "test5 = {'input': {'nums': [1, 2, 3, 4, 5, 6, 7, 8, 9, 10]},'output': 0}"
   ]
  },
  {
   "cell_type": "markdown",
   "id": "a8e8099e",
   "metadata": {
    "papermill": {
     "duration": 0.007452,
     "end_time": "2022-06-26T10:12:46.323902",
     "exception": false,
     "start_time": "2022-06-26T10:12:46.316450",
     "status": "completed"
    },
    "tags": []
   },
   "source": [
    "**HINT**: Read the question carefully to determine the correct output for the above test case."
   ]
  },
  {
   "cell_type": "code",
   "execution_count": 12,
   "id": "6a61e428",
   "metadata": {
    "execution": {
     "iopub.execute_input": "2022-06-26T10:12:46.341290Z",
     "iopub.status.busy": "2022-06-26T10:12:46.340652Z",
     "iopub.status.idle": "2022-06-26T10:12:46.345631Z",
     "shell.execute_reply": "2022-06-26T10:12:46.344845Z"
    },
    "papermill": {
     "duration": 0.016059,
     "end_time": "2022-06-26T10:12:46.347688",
     "exception": false,
     "start_time": "2022-06-26T10:12:46.331629",
     "status": "completed"
    },
    "tags": []
   },
   "outputs": [],
   "source": [
    "# An empty list.\n",
    "test6 = {'input': {'nums': []},'output': 0}"
   ]
  },
  {
   "cell_type": "code",
   "execution_count": 13,
   "id": "017f7dcf",
   "metadata": {
    "execution": {
     "iopub.execute_input": "2022-06-26T10:12:46.365151Z",
     "iopub.status.busy": "2022-06-26T10:12:46.364453Z",
     "iopub.status.idle": "2022-06-26T10:12:46.369010Z",
     "shell.execute_reply": "2022-06-26T10:12:46.368305Z"
    },
    "papermill": {
     "duration": 0.015582,
     "end_time": "2022-06-26T10:12:46.371023",
     "exception": false,
     "start_time": "2022-06-26T10:12:46.355441",
     "status": "completed"
    },
    "tags": []
   },
   "outputs": [],
   "source": [
    "# A list containing just one element.\n",
    "test7 = {'input': {'nums': [1]},'output': 0}"
   ]
  },
  {
   "cell_type": "code",
   "execution_count": 14,
   "id": "9a527d10",
   "metadata": {
    "execution": {
     "iopub.execute_input": "2022-06-26T10:12:46.388680Z",
     "iopub.status.busy": "2022-06-26T10:12:46.387940Z",
     "iopub.status.idle": "2022-06-26T10:12:46.392902Z",
     "shell.execute_reply": "2022-06-26T10:12:46.392141Z"
    },
    "papermill": {
     "duration": 0.016098,
     "end_time": "2022-06-26T10:12:46.394953",
     "exception": false,
     "start_time": "2022-06-26T10:12:46.378855",
     "status": "completed"
    },
    "tags": []
   },
   "outputs": [],
   "source": [
    "# A list containing repeating elements.\n",
    "test8 = {'input':{'nums':[1, 1, 1, 2, 3, 4, 5, 6, 1, 1]},'output': 8}"
   ]
  },
  {
   "cell_type": "code",
   "execution_count": 15,
   "id": "8383515c",
   "metadata": {
    "execution": {
     "iopub.execute_input": "2022-06-26T10:12:46.412498Z",
     "iopub.status.busy": "2022-06-26T10:12:46.412147Z",
     "iopub.status.idle": "2022-06-26T10:12:46.417218Z",
     "shell.execute_reply": "2022-06-26T10:12:46.416218Z"
    },
    "papermill": {
     "duration": 0.016405,
     "end_time": "2022-06-26T10:12:46.419206",
     "exception": false,
     "start_time": "2022-06-26T10:12:46.402801",
     "status": "completed"
    },
    "tags": []
   },
   "outputs": [],
   "source": [
    "# A list containing all the same element.\n",
    "test9 = {'input':{'nums':[1, 1, 1, 1, 1, 1, 1, 1, 1, 1]},'output': 0}"
   ]
  },
  {
   "cell_type": "code",
   "execution_count": 16,
   "id": "72ba26a0",
   "metadata": {
    "execution": {
     "iopub.execute_input": "2022-06-26T10:12:46.436326Z",
     "iopub.status.busy": "2022-06-26T10:12:46.435957Z",
     "iopub.status.idle": "2022-06-26T10:12:46.440542Z",
     "shell.execute_reply": "2022-06-26T10:12:46.439526Z"
    },
    "papermill": {
     "duration": 0.015489,
     "end_time": "2022-06-26T10:12:46.442433",
     "exception": false,
     "start_time": "2022-06-26T10:12:46.426944",
     "status": "completed"
    },
    "tags": []
   },
   "outputs": [],
   "source": [
    "# A list with repeating elements to the mid.\n",
    "test10 = {'input':{'nums':[2, 3, 4, 5, 1, 1, 1, 1, 1, 1]},'output': 4}"
   ]
  },
  {
   "cell_type": "code",
   "execution_count": 17,
   "id": "e4692cbe",
   "metadata": {
    "execution": {
     "iopub.execute_input": "2022-06-26T10:12:46.459772Z",
     "iopub.status.busy": "2022-06-26T10:12:46.458757Z",
     "iopub.status.idle": "2022-06-26T10:12:46.463892Z",
     "shell.execute_reply": "2022-06-26T10:12:46.463200Z"
    },
    "papermill": {
     "duration": 0.015735,
     "end_time": "2022-06-26T10:12:46.465771",
     "exception": false,
     "start_time": "2022-06-26T10:12:46.450036",
     "status": "completed"
    },
    "tags": []
   },
   "outputs": [],
   "source": [
    "tests = [test0, test1, test2, test3, test4, test5, test6, test7, test8, test9, test10]"
   ]
  },
  {
   "cell_type": "code",
   "execution_count": 18,
   "id": "6bfe1527",
   "metadata": {
    "execution": {
     "iopub.execute_input": "2022-06-26T10:12:46.482815Z",
     "iopub.status.busy": "2022-06-26T10:12:46.482116Z",
     "iopub.status.idle": "2022-06-26T10:12:46.491093Z",
     "shell.execute_reply": "2022-06-26T10:12:46.490288Z"
    },
    "papermill": {
     "duration": 0.01964,
     "end_time": "2022-06-26T10:12:46.492983",
     "exception": false,
     "start_time": "2022-06-26T10:12:46.473343",
     "status": "completed"
    },
    "tags": []
   },
   "outputs": [
    {
     "data": {
      "text/plain": [
       "[{'input': {'nums': [8, 9, 10, 1, 2, 3, 4, 5, 6, 7]}, 'output': 3},\n",
       " {'input': {'nums': [6, 7, 8, 9, 10, 1, 2, 3, 4, 5]}, 'output': 5},\n",
       " {'input': {'nums': [1, 2, 3, 4, 5, 6, 7, 8, 9, 10]}, 'output': 0},\n",
       " {'input': {'nums': [10, 1, 2, 3, 4, 5, 6, 7, 8, 9]}, 'output': 1},\n",
       " {'input': {'nums': [2, 3, 4, 5, 6, 7, 8, 9, 10, 1]}, 'output': 9},\n",
       " {'input': {'nums': [1, 2, 3, 4, 5, 6, 7, 8, 9, 10]}, 'output': 0},\n",
       " {'input': {'nums': []}, 'output': 0},\n",
       " {'input': {'nums': [1]}, 'output': 0},\n",
       " {'input': {'nums': [1, 1, 1, 2, 3, 4, 5, 6, 1, 1]}, 'output': 8},\n",
       " {'input': {'nums': [1, 1, 1, 1, 1, 1, 1, 1, 1, 1]}, 'output': 0},\n",
       " {'input': {'nums': [2, 3, 4, 5, 1, 1, 1, 1, 1, 1]}, 'output': 4}]"
      ]
     },
     "execution_count": 18,
     "metadata": {},
     "output_type": "execute_result"
    }
   ],
   "source": [
    "tests"
   ]
  },
  {
   "cell_type": "code",
   "execution_count": 19,
   "id": "4b8718a8",
   "metadata": {
    "execution": {
     "iopub.execute_input": "2022-06-26T10:12:46.510439Z",
     "iopub.status.busy": "2022-06-26T10:12:46.509639Z",
     "iopub.status.idle": "2022-06-26T10:12:46.517970Z",
     "shell.execute_reply": "2022-06-26T10:12:46.516955Z"
    },
    "papermill": {
     "duration": 0.019937,
     "end_time": "2022-06-26T10:12:46.520721",
     "exception": false,
     "start_time": "2022-06-26T10:12:46.500784",
     "status": "completed"
    },
    "tags": []
   },
   "outputs": [
    {
     "name": "stdout",
     "output_type": "stream",
     "text": [
      "\n",
      "\u001b[1mTEST CASE #0\u001b[0m\n",
      "\n",
      "Input:\n",
      "{'nums': [8, 9, 10, 1, 2, 3, 4, 5, 6, 7]}\n",
      "\n",
      "Expected Output:\n",
      "3\n",
      "\n",
      "\n",
      "Actual Output:\n",
      "None\n",
      "\n",
      "Execution Time:\n",
      "0.002 ms\n",
      "\n",
      "Test Result:\n",
      "\u001b[91mFAILED\u001b[0m\n",
      "\n",
      "\n",
      "\u001b[1mTEST CASE #1\u001b[0m\n",
      "\n",
      "Input:\n",
      "{'nums': [6, 7, 8, 9, 10, 1, 2, 3, 4, 5]}\n",
      "\n",
      "Expected Output:\n",
      "5\n",
      "\n",
      "\n",
      "Actual Output:\n",
      "None\n",
      "\n",
      "Execution Time:\n",
      "0.001 ms\n",
      "\n",
      "Test Result:\n",
      "\u001b[91mFAILED\u001b[0m\n",
      "\n",
      "\n",
      "\u001b[1mTEST CASE #2\u001b[0m\n",
      "\n",
      "Input:\n",
      "{'nums': [1, 2, 3, 4, 5, 6, 7, 8, 9, 10]}\n",
      "\n",
      "Expected Output:\n",
      "0\n",
      "\n",
      "\n",
      "Actual Output:\n",
      "None\n",
      "\n",
      "Execution Time:\n",
      "0.001 ms\n",
      "\n",
      "Test Result:\n",
      "\u001b[91mFAILED\u001b[0m\n",
      "\n",
      "\n",
      "\u001b[1mTEST CASE #3\u001b[0m\n",
      "\n",
      "Input:\n",
      "{'nums': [10, 1, 2, 3, 4, 5, 6, 7, 8, 9]}\n",
      "\n",
      "Expected Output:\n",
      "1\n",
      "\n",
      "\n",
      "Actual Output:\n",
      "None\n",
      "\n",
      "Execution Time:\n",
      "0.001 ms\n",
      "\n",
      "Test Result:\n",
      "\u001b[91mFAILED\u001b[0m\n",
      "\n",
      "\n",
      "\u001b[1mTEST CASE #4\u001b[0m\n",
      "\n",
      "Input:\n",
      "{'nums': [2, 3, 4, 5, 6, 7, 8, 9, 10, 1]}\n",
      "\n",
      "Expected Output:\n",
      "9\n",
      "\n",
      "\n",
      "Actual Output:\n",
      "None\n",
      "\n",
      "Execution Time:\n",
      "0.001 ms\n",
      "\n",
      "Test Result:\n",
      "\u001b[91mFAILED\u001b[0m\n",
      "\n",
      "\n",
      "\u001b[1mTEST CASE #5\u001b[0m\n",
      "\n",
      "Input:\n",
      "{'nums': [1, 2, 3, 4, 5, 6, 7, 8, 9, 10]}\n",
      "\n",
      "Expected Output:\n",
      "0\n",
      "\n",
      "\n",
      "Actual Output:\n",
      "None\n",
      "\n",
      "Execution Time:\n",
      "0.001 ms\n",
      "\n",
      "Test Result:\n",
      "\u001b[91mFAILED\u001b[0m\n",
      "\n",
      "\n",
      "\u001b[1mTEST CASE #6\u001b[0m\n",
      "\n",
      "Input:\n",
      "{'nums': []}\n",
      "\n",
      "Expected Output:\n",
      "0\n",
      "\n",
      "\n",
      "Actual Output:\n",
      "None\n",
      "\n",
      "Execution Time:\n",
      "0.001 ms\n",
      "\n",
      "Test Result:\n",
      "\u001b[91mFAILED\u001b[0m\n",
      "\n",
      "\n",
      "\u001b[1mTEST CASE #7\u001b[0m\n",
      "\n",
      "Input:\n",
      "{'nums': [1]}\n",
      "\n",
      "Expected Output:\n",
      "0\n",
      "\n",
      "\n",
      "Actual Output:\n",
      "None\n",
      "\n",
      "Execution Time:\n",
      "0.001 ms\n",
      "\n",
      "Test Result:\n",
      "\u001b[91mFAILED\u001b[0m\n",
      "\n",
      "\n",
      "\u001b[1mTEST CASE #8\u001b[0m\n",
      "\n",
      "Input:\n",
      "{'nums': [1, 1, 1, 2, 3, 4, 5, 6, 1, 1]}\n",
      "\n",
      "Expected Output:\n",
      "8\n",
      "\n",
      "\n",
      "Actual Output:\n",
      "None\n",
      "\n",
      "Execution Time:\n",
      "0.001 ms\n",
      "\n",
      "Test Result:\n",
      "\u001b[91mFAILED\u001b[0m\n",
      "\n",
      "\n",
      "\u001b[1mTEST CASE #9\u001b[0m\n",
      "\n",
      "Input:\n",
      "{'nums': [1, 1, 1, 1, 1, 1, 1, 1, 1, 1]}\n",
      "\n",
      "Expected Output:\n",
      "0\n",
      "\n",
      "\n",
      "Actual Output:\n",
      "None\n",
      "\n",
      "Execution Time:\n",
      "0.001 ms\n",
      "\n",
      "Test Result:\n",
      "\u001b[91mFAILED\u001b[0m\n",
      "\n",
      "\n",
      "\u001b[1mTEST CASE #10\u001b[0m\n",
      "\n",
      "Input:\n",
      "{'nums': [2, 3, 4, 5, 1, 1, 1, 1, 1, 1]}\n",
      "\n",
      "Expected Output:\n",
      "4\n",
      "\n",
      "\n",
      "Actual Output:\n",
      "None\n",
      "\n",
      "Execution Time:\n",
      "0.001 ms\n",
      "\n",
      "Test Result:\n",
      "\u001b[91mFAILED\u001b[0m\n",
      "\n",
      "\n",
      "\u001b[1mSUMMARY\u001b[0m\n",
      "\n",
      "TOTAL: 11, \u001b[92mPASSED\u001b[0m: 0, \u001b[91mFAILED\u001b[0m: 11\n"
     ]
    },
    {
     "data": {
      "text/plain": [
       "[(None, False, 0.002),\n",
       " (None, False, 0.001),\n",
       " (None, False, 0.001),\n",
       " (None, False, 0.001),\n",
       " (None, False, 0.001),\n",
       " (None, False, 0.001),\n",
       " (None, False, 0.001),\n",
       " (None, False, 0.001),\n",
       " (None, False, 0.001),\n",
       " (None, False, 0.001),\n",
       " (None, False, 0.001)]"
      ]
     },
     "execution_count": 19,
     "metadata": {},
     "output_type": "execute_result"
    }
   ],
   "source": [
    "evaluate_test_cases(count_rotations, tests)"
   ]
  },
  {
   "cell_type": "markdown",
   "id": "a66841e3",
   "metadata": {
    "papermill": {
     "duration": 0.007663,
     "end_time": "2022-06-26T10:12:46.536338",
     "exception": false,
     "start_time": "2022-06-26T10:12:46.528675",
     "status": "completed"
    },
    "tags": []
   },
   "source": [
    "### 3. Come up with a correct solution for the problem. State it in plain English.\n",
    "\n",
    "Our first goal should always be to come up with a _correct_ solution to the problem, which may not necessarily be the most _efficient_ solution. Try to think of a solution before you read further. \n",
    "\n",
    "Coming up with the correct solution is quite easy, and it's based on this insight: If a list of sorted numbers is rotated `k` times, then the smallest number in the list ends up at position `k` (counting from 0). Further, it is the only number in the list which is smaller than the number before it. Thus, we simply need to **check for each number in the list whether it is smaller than the number that comes before it** (if there is a number before it). Then, our answer i.e. the number of rotations is simply the position of this number is . If we cannot find such a number, then the list wasn't rotated at all.\n",
    "\n",
    "Example: In the list `[19, 25, 29, 3, 5, 6, 7, 9, 11, 14]`, the number `3` is the only number smaller than its predecessor. It occurs at the position `3` (counting from `0`), hence the array was rotated `3` times.\n",
    "\n",
    "\n",
    "We can use the *linear search* algorithm as a first attempt to solve this problem i.e. we can perform the check for every position one by one. But first, try describing the above solution in your own words, that make it clear to you.\n",
    "\n",
    "_**Q (Optional): Describe the linear search solution explained above problem in your own words.**_\n",
    "\n",
    "1. > sort the list\n",
    "2. > find the first element which is the lowest element\n",
    "3. > find the position of lowest element in user-given list\n",
    "4. > exception if the list is empty or having one element output == 0"
   ]
  },
  {
   "cell_type": "markdown",
   "id": "ee3690b4",
   "metadata": {
    "papermill": {
     "duration": 0.007626,
     "end_time": "2022-06-26T10:12:46.551763",
     "exception": false,
     "start_time": "2022-06-26T10:12:46.544137",
     "status": "completed"
    },
    "tags": []
   },
   "source": [
    "###  4. Implement the solution and test it using example inputs. Fix bugs, if any.\n"
   ]
  },
  {
   "cell_type": "code",
   "execution_count": 20,
   "id": "c4a06153",
   "metadata": {
    "execution": {
     "iopub.execute_input": "2022-06-26T10:12:46.569507Z",
     "iopub.status.busy": "2022-06-26T10:12:46.568878Z",
     "iopub.status.idle": "2022-06-26T10:12:46.574522Z",
     "shell.execute_reply": "2022-06-26T10:12:46.573733Z"
    },
    "papermill": {
     "duration": 0.016702,
     "end_time": "2022-06-26T10:12:46.576320",
     "exception": false,
     "start_time": "2022-06-26T10:12:46.559618",
     "status": "completed"
    },
    "tags": []
   },
   "outputs": [],
   "source": [
    "def count_rotations_linear(nums):\n",
    "    position = 0                                    # What is the intial value of position?\n",
    "    \n",
    "    while position < len(nums):                     # When should the loop be terminated?\n",
    "        \n",
    "        # Success criteria: check whether the number at the current position is smaller than the one before it\n",
    "        # How to perform the check?\n",
    "        if position > 0 and nums[position] < nums[position-1]:\n",
    "          return position\n",
    "        \n",
    "        # Move to the next position\n",
    "        position += 1\n",
    "    \n",
    "    return 0                                        # What if none of the positions passed the check               "
   ]
  },
  {
   "cell_type": "markdown",
   "id": "36983b77",
   "metadata": {
    "papermill": {
     "duration": 0.007565,
     "end_time": "2022-06-26T10:12:46.591722",
     "exception": false,
     "start_time": "2022-06-26T10:12:46.584157",
     "status": "completed"
    },
    "tags": []
   },
   "source": [
    "Make sure your function passes the tests. Fix bugs, if any. \n",
    "\n",
    "Let's test out the function with all the test cases."
   ]
  },
  {
   "cell_type": "code",
   "execution_count": 21,
   "id": "4277a57b",
   "metadata": {
    "execution": {
     "iopub.execute_input": "2022-06-26T10:12:46.609346Z",
     "iopub.status.busy": "2022-06-26T10:12:46.608743Z",
     "iopub.status.idle": "2022-06-26T10:12:46.614866Z",
     "shell.execute_reply": "2022-06-26T10:12:46.613839Z"
    },
    "papermill": {
     "duration": 0.017794,
     "end_time": "2022-06-26T10:12:46.617272",
     "exception": false,
     "start_time": "2022-06-26T10:12:46.599478",
     "status": "completed"
    },
    "tags": []
   },
   "outputs": [
    {
     "name": "stdout",
     "output_type": "stream",
     "text": [
      "\n",
      "\u001b[1mTEST CASE #0\u001b[0m\n",
      "\n",
      "Input:\n",
      "{'nums': [8, 9, 10, 1, 2, 3, 4, 5, 6, 7]}\n",
      "\n",
      "Expected Output:\n",
      "3\n",
      "\n",
      "\n",
      "Actual Output:\n",
      "3\n",
      "\n",
      "Execution Time:\n",
      "0.003 ms\n",
      "\n",
      "Test Result:\n",
      "\u001b[92mPASSED\u001b[0m\n",
      "\n",
      "\n",
      "\u001b[1mTEST CASE #1\u001b[0m\n",
      "\n",
      "Input:\n",
      "{'nums': [6, 7, 8, 9, 10, 1, 2, 3, 4, 5]}\n",
      "\n",
      "Expected Output:\n",
      "5\n",
      "\n",
      "\n",
      "Actual Output:\n",
      "5\n",
      "\n",
      "Execution Time:\n",
      "0.003 ms\n",
      "\n",
      "Test Result:\n",
      "\u001b[92mPASSED\u001b[0m\n",
      "\n",
      "\n",
      "\u001b[1mTEST CASE #2\u001b[0m\n",
      "\n",
      "Input:\n",
      "{'nums': [1, 2, 3, 4, 5, 6, 7, 8, 9, 10]}\n",
      "\n",
      "Expected Output:\n",
      "0\n",
      "\n",
      "\n",
      "Actual Output:\n",
      "0\n",
      "\n",
      "Execution Time:\n",
      "0.003 ms\n",
      "\n",
      "Test Result:\n",
      "\u001b[92mPASSED\u001b[0m\n",
      "\n",
      "\n",
      "\u001b[1mTEST CASE #3\u001b[0m\n",
      "\n",
      "Input:\n",
      "{'nums': [10, 1, 2, 3, 4, 5, 6, 7, 8, 9]}\n",
      "\n",
      "Expected Output:\n",
      "1\n",
      "\n",
      "\n",
      "Actual Output:\n",
      "1\n",
      "\n",
      "Execution Time:\n",
      "0.002 ms\n",
      "\n",
      "Test Result:\n",
      "\u001b[92mPASSED\u001b[0m\n",
      "\n",
      "\n",
      "\u001b[1mTEST CASE #4\u001b[0m\n",
      "\n",
      "Input:\n",
      "{'nums': [2, 3, 4, 5, 6, 7, 8, 9, 10, 1]}\n",
      "\n",
      "Expected Output:\n",
      "9\n",
      "\n",
      "\n",
      "Actual Output:\n",
      "9\n",
      "\n",
      "Execution Time:\n",
      "0.003 ms\n",
      "\n",
      "Test Result:\n",
      "\u001b[92mPASSED\u001b[0m\n",
      "\n",
      "\n",
      "\u001b[1mTEST CASE #5\u001b[0m\n",
      "\n",
      "Input:\n",
      "{'nums': [1, 2, 3, 4, 5, 6, 7, 8, 9, 10]}\n",
      "\n",
      "Expected Output:\n",
      "0\n",
      "\n",
      "\n",
      "Actual Output:\n",
      "0\n",
      "\n",
      "Execution Time:\n",
      "0.003 ms\n",
      "\n",
      "Test Result:\n",
      "\u001b[92mPASSED\u001b[0m\n",
      "\n",
      "\n",
      "\u001b[1mTEST CASE #6\u001b[0m\n",
      "\n",
      "Input:\n",
      "{'nums': []}\n",
      "\n",
      "Expected Output:\n",
      "0\n",
      "\n",
      "\n",
      "Actual Output:\n",
      "0\n",
      "\n",
      "Execution Time:\n",
      "0.001 ms\n",
      "\n",
      "Test Result:\n",
      "\u001b[92mPASSED\u001b[0m\n",
      "\n",
      "\n",
      "\u001b[1mTEST CASE #7\u001b[0m\n",
      "\n",
      "Input:\n",
      "{'nums': [1]}\n",
      "\n",
      "Expected Output:\n",
      "0\n",
      "\n",
      "\n",
      "Actual Output:\n",
      "0\n",
      "\n",
      "Execution Time:\n",
      "0.001 ms\n",
      "\n",
      "Test Result:\n",
      "\u001b[92mPASSED\u001b[0m\n",
      "\n",
      "\n",
      "\u001b[1mTEST CASE #8\u001b[0m\n",
      "\n",
      "Input:\n",
      "{'nums': [1, 1, 1, 2, 3, 4, 5, 6, 1, 1]}\n",
      "\n",
      "Expected Output:\n",
      "8\n",
      "\n",
      "\n",
      "Actual Output:\n",
      "8\n",
      "\n",
      "Execution Time:\n",
      "0.003 ms\n",
      "\n",
      "Test Result:\n",
      "\u001b[92mPASSED\u001b[0m\n",
      "\n",
      "\n",
      "\u001b[1mTEST CASE #9\u001b[0m\n",
      "\n",
      "Input:\n",
      "{'nums': [1, 1, 1, 1, 1, 1, 1, 1, 1, 1]}\n",
      "\n",
      "Expected Output:\n",
      "0\n",
      "\n",
      "\n",
      "Actual Output:\n",
      "0\n",
      "\n",
      "Execution Time:\n",
      "0.003 ms\n",
      "\n",
      "Test Result:\n",
      "\u001b[92mPASSED\u001b[0m\n",
      "\n",
      "\n",
      "\u001b[1mTEST CASE #10\u001b[0m\n",
      "\n",
      "Input:\n",
      "{'nums': [2, 3, 4, 5, 1, 1, 1, 1, 1, 1]}\n",
      "\n",
      "Expected Output:\n",
      "4\n",
      "\n",
      "\n",
      "Actual Output:\n",
      "4\n",
      "\n",
      "Execution Time:\n",
      "0.003 ms\n",
      "\n",
      "Test Result:\n",
      "\u001b[92mPASSED\u001b[0m\n",
      "\n",
      "\n",
      "\u001b[1mSUMMARY\u001b[0m\n",
      "\n",
      "TOTAL: 11, \u001b[92mPASSED\u001b[0m: 11, \u001b[91mFAILED\u001b[0m: 0\n"
     ]
    }
   ],
   "source": [
    "linear_search_results = evaluate_test_cases(count_rotations_linear, tests)"
   ]
  },
  {
   "cell_type": "markdown",
   "id": "f7a474fa",
   "metadata": {
    "papermill": {
     "duration": 0.008275,
     "end_time": "2022-06-26T10:12:46.633733",
     "exception": false,
     "start_time": "2022-06-26T10:12:46.625458",
     "status": "completed"
    },
    "tags": []
   },
   "source": [
    "### 5. Analyze the algorithm's complexity and identify inefficiencies, if any.\n",
    "\n",
    "Count the maximum number of iterations it may take for the algorithm to return the result.\n",
    "\n",
    "_**Q: What is the worst-case complexity (running time) of the algorithm expressed in the Big O Notation? Assume that the size of the list is `N` (uppercase).**_\n"
   ]
  },
  {
   "cell_type": "code",
   "execution_count": 22,
   "id": "0b3a6e8c",
   "metadata": {
    "execution": {
     "iopub.execute_input": "2022-06-26T10:12:46.652142Z",
     "iopub.status.busy": "2022-06-26T10:12:46.651735Z",
     "iopub.status.idle": "2022-06-26T10:12:46.656067Z",
     "shell.execute_reply": "2022-06-26T10:12:46.654970Z"
    },
    "papermill": {
     "duration": 0.015981,
     "end_time": "2022-06-26T10:12:46.658021",
     "exception": false,
     "start_time": "2022-06-26T10:12:46.642040",
     "status": "completed"
    },
    "tags": []
   },
   "outputs": [],
   "source": [
    "linear_search_complexity = \"O(N)\""
   ]
  },
  {
   "cell_type": "markdown",
   "id": "71797503",
   "metadata": {
    "papermill": {
     "duration": 0.00778,
     "end_time": "2022-06-26T10:12:46.673911",
     "exception": false,
     "start_time": "2022-06-26T10:12:46.666131",
     "status": "completed"
    },
    "tags": []
   },
   "source": [
    "### 6. Apply the right technique to overcome the inefficiency. Repeat steps 3 to 6.\n",
    "\n",
    "As you might have guessed, we can apply _Binary Search_ to solve this problem. The key question we need to answer in binary search is: Given the middle element, how to decide if it is the answer (smallest number), or whether the answer lies to the left or right of it. \n",
    "\n",
    "If the middle element is smaller than its predecessor, then it is the answer. However, if it isn't, this check is not sufficient to determine whether the answer lies to the left or the right of it. Consider the following examples.\n",
    "\n",
    "`[7, 8, 1, 3, 4, 5, 6]` (answer lies to the left of the middle element)\n",
    "\n",
    "`[1, 2, 3, 4, 5, -1, 0]` (answer lies to the right of the middle element)\n",
    "\n",
    "Here's a check that will help us determine if the answer lies to the left or the right: _If the middle element of the list is smaller than the last element of the range, then the answer lies to the left of it. Otherwise, the answer lies to the right._\n",
    "\n",
    "Do you see why this strategy works?\n"
   ]
  },
  {
   "cell_type": "markdown",
   "id": "d67038ed",
   "metadata": {
    "papermill": {
     "duration": 0.007707,
     "end_time": "2022-06-26T10:12:46.689521",
     "exception": false,
     "start_time": "2022-06-26T10:12:46.681814",
     "status": "completed"
    },
    "tags": []
   },
   "source": [
    "### 7. Come up with a correct solution for the problem. State it in plain English.\n",
    "\n",
    "Before we implement the solution, it's useful to describe it in a way that makes most sense to you. In a coding interview, you will almost certainly be asked to describe your approach before you start writing code.\n",
    "\n",
    "_**Q : Describe the binary search solution explained above problem in your own words.**_\n",
    "\n",
    "1. \n",
    "> set lo as first num and hi as last num\n",
    "> check if the mid number is lowest\n",
    "2. \n",
    "> compare the mid number with hi num\n",
    "3.  \n",
    "> if hi num is higher than mid then need to search the left\n",
    "> set hi as mid\n",
    "> if hi num is lower than mid then need to search the right\n",
    "4.  \n",
    "> set lo as mid num\n",
    "> if previous postion is the same num as mid then mid pos -1"
   ]
  },
  {
   "cell_type": "markdown",
   "id": "8fc94b33",
   "metadata": {
    "papermill": {
     "duration": 0.008186,
     "end_time": "2022-06-26T10:12:46.705709",
     "exception": false,
     "start_time": "2022-06-26T10:12:46.697523",
     "status": "completed"
    },
    "tags": []
   },
   "source": [
    "### 8. Implement the solution and test it using example inputs. Fix bugs, if any.\n",
    "\n",
    "*__Q: Implement the binary search solution described in step 7.__*"
   ]
  },
  {
   "cell_type": "code",
   "execution_count": 23,
   "id": "be423a4a",
   "metadata": {
    "execution": {
     "iopub.execute_input": "2022-06-26T10:12:46.729477Z",
     "iopub.status.busy": "2022-06-26T10:12:46.729047Z",
     "iopub.status.idle": "2022-06-26T10:12:46.735922Z",
     "shell.execute_reply": "2022-06-26T10:12:46.734830Z"
    },
    "papermill": {
     "duration": 0.023841,
     "end_time": "2022-06-26T10:12:46.738627",
     "exception": false,
     "start_time": "2022-06-26T10:12:46.714786",
     "status": "completed"
    },
    "tags": []
   },
   "outputs": [],
   "source": [
    "def count_rotations_binary(nums):\n",
    "    lo = 0\n",
    "    hi = len(nums) - 1\n",
    "    \n",
    "    while len(nums) > 0:\n",
    "        mid = (lo + hi) // 2\n",
    "        mid_number = nums[mid]\n",
    "        \n",
    "        # Uncomment the next line for logging the values and fixing errors.\n",
    "        # print(\"lo:\", lo, \", hi:\", hi, \", mid:\", mid, \", mid_number:\", mid_number)\n",
    "        \n",
    "        if mid > 0 and mid_number < nums[mid-1]:\n",
    "            # The middle position is the answer\n",
    "            return mid\n",
    "            # The last number in the list is lowest\n",
    "        elif mid == 0 or mid == 9:\n",
    "            return mid\n",
    "        elif nums[hi] >= nums[mid]:\n",
    "            # Answer lies in the left half\n",
    "            hi = mid - 1  \n",
    "        \n",
    "        else:\n",
    "            # Answer lies in the right half\n",
    "            lo = mid + 1\n",
    "    \n",
    "    return 0"
   ]
  },
  {
   "cell_type": "markdown",
   "id": "ad64ff36",
   "metadata": {
    "papermill": {
     "duration": 0.008406,
     "end_time": "2022-06-26T10:12:46.755995",
     "exception": false,
     "start_time": "2022-06-26T10:12:46.747589",
     "status": "completed"
    },
    "tags": []
   },
   "source": [
    "Make sure your function passes the test. Fix bugs, if any.\n",
    "\n",
    "Let's test it out with all the test cases."
   ]
  },
  {
   "cell_type": "code",
   "execution_count": 24,
   "id": "90685fbd",
   "metadata": {
    "execution": {
     "iopub.execute_input": "2022-06-26T10:12:46.778736Z",
     "iopub.status.busy": "2022-06-26T10:12:46.776855Z",
     "iopub.status.idle": "2022-06-26T10:12:46.786916Z",
     "shell.execute_reply": "2022-06-26T10:12:46.785814Z"
    },
    "papermill": {
     "duration": 0.023882,
     "end_time": "2022-06-26T10:12:46.789815",
     "exception": false,
     "start_time": "2022-06-26T10:12:46.765933",
     "status": "completed"
    },
    "tags": []
   },
   "outputs": [
    {
     "name": "stdout",
     "output_type": "stream",
     "text": [
      "\n",
      "\u001b[1mTEST CASE #0\u001b[0m\n",
      "\n",
      "Input:\n",
      "{'nums': [8, 9, 10, 1, 2, 3, 4, 5, 6, 7]}\n",
      "\n",
      "Expected Output:\n",
      "3\n",
      "\n",
      "\n",
      "Actual Output:\n",
      "3\n",
      "\n",
      "Execution Time:\n",
      "0.007 ms\n",
      "\n",
      "Test Result:\n",
      "\u001b[92mPASSED\u001b[0m\n",
      "\n",
      "\n",
      "\u001b[1mTEST CASE #1\u001b[0m\n",
      "\n",
      "Input:\n",
      "{'nums': [6, 7, 8, 9, 10, 1, 2, 3, 4, 5]}\n",
      "\n",
      "Expected Output:\n",
      "5\n",
      "\n",
      "\n",
      "Actual Output:\n",
      "5\n",
      "\n",
      "Execution Time:\n",
      "0.006 ms\n",
      "\n",
      "Test Result:\n",
      "\u001b[92mPASSED\u001b[0m\n",
      "\n",
      "\n",
      "\u001b[1mTEST CASE #2\u001b[0m\n",
      "\n",
      "Input:\n",
      "{'nums': [1, 2, 3, 4, 5, 6, 7, 8, 9, 10]}\n",
      "\n",
      "Expected Output:\n",
      "0\n",
      "\n",
      "\n",
      "Actual Output:\n",
      "0\n",
      "\n",
      "Execution Time:\n",
      "0.004 ms\n",
      "\n",
      "Test Result:\n",
      "\u001b[92mPASSED\u001b[0m\n",
      "\n",
      "\n",
      "\u001b[1mTEST CASE #3\u001b[0m\n",
      "\n",
      "Input:\n",
      "{'nums': [10, 1, 2, 3, 4, 5, 6, 7, 8, 9]}\n",
      "\n",
      "Expected Output:\n",
      "1\n",
      "\n",
      "\n",
      "Actual Output:\n",
      "1\n",
      "\n",
      "Execution Time:\n",
      "0.003 ms\n",
      "\n",
      "Test Result:\n",
      "\u001b[92mPASSED\u001b[0m\n",
      "\n",
      "\n",
      "\u001b[1mTEST CASE #4\u001b[0m\n",
      "\n",
      "Input:\n",
      "{'nums': [2, 3, 4, 5, 6, 7, 8, 9, 10, 1]}\n",
      "\n",
      "Expected Output:\n",
      "9\n",
      "\n",
      "\n",
      "Actual Output:\n",
      "9\n",
      "\n",
      "Execution Time:\n",
      "0.004 ms\n",
      "\n",
      "Test Result:\n",
      "\u001b[92mPASSED\u001b[0m\n",
      "\n",
      "\n",
      "\u001b[1mTEST CASE #5\u001b[0m\n",
      "\n",
      "Input:\n",
      "{'nums': [1, 2, 3, 4, 5, 6, 7, 8, 9, 10]}\n",
      "\n",
      "Expected Output:\n",
      "0\n",
      "\n",
      "\n",
      "Actual Output:\n",
      "0\n",
      "\n",
      "Execution Time:\n",
      "0.004 ms\n",
      "\n",
      "Test Result:\n",
      "\u001b[92mPASSED\u001b[0m\n",
      "\n",
      "\n",
      "\u001b[1mTEST CASE #6\u001b[0m\n",
      "\n",
      "Input:\n",
      "{'nums': []}\n",
      "\n",
      "Expected Output:\n",
      "0\n",
      "\n",
      "\n",
      "Actual Output:\n",
      "0\n",
      "\n",
      "Execution Time:\n",
      "0.002 ms\n",
      "\n",
      "Test Result:\n",
      "\u001b[92mPASSED\u001b[0m\n",
      "\n",
      "\n",
      "\u001b[1mTEST CASE #7\u001b[0m\n",
      "\n",
      "Input:\n",
      "{'nums': [1]}\n",
      "\n",
      "Expected Output:\n",
      "0\n",
      "\n",
      "\n",
      "Actual Output:\n",
      "0\n",
      "\n",
      "Execution Time:\n",
      "0.002 ms\n",
      "\n",
      "Test Result:\n",
      "\u001b[92mPASSED\u001b[0m\n",
      "\n",
      "\n",
      "\u001b[1mTEST CASE #8\u001b[0m\n",
      "\n",
      "Input:\n",
      "{'nums': [1, 1, 1, 2, 3, 4, 5, 6, 1, 1]}\n",
      "\n",
      "Expected Output:\n",
      "8\n",
      "\n",
      "\n",
      "Actual Output:\n",
      "8\n",
      "\n",
      "Execution Time:\n",
      "0.003 ms\n",
      "\n",
      "Test Result:\n",
      "\u001b[92mPASSED\u001b[0m\n",
      "\n",
      "\n",
      "\u001b[1mTEST CASE #9\u001b[0m\n",
      "\n",
      "Input:\n",
      "{'nums': [1, 1, 1, 1, 1, 1, 1, 1, 1, 1]}\n",
      "\n",
      "Expected Output:\n",
      "0\n",
      "\n",
      "\n",
      "Actual Output:\n",
      "0\n",
      "\n",
      "Execution Time:\n",
      "0.004 ms\n",
      "\n",
      "Test Result:\n",
      "\u001b[92mPASSED\u001b[0m\n",
      "\n",
      "\n",
      "\u001b[1mTEST CASE #10\u001b[0m\n",
      "\n",
      "Input:\n",
      "{'nums': [2, 3, 4, 5, 1, 1, 1, 1, 1, 1]}\n",
      "\n",
      "Expected Output:\n",
      "4\n",
      "\n",
      "\n",
      "Actual Output:\n",
      "4\n",
      "\n",
      "Execution Time:\n",
      "0.002 ms\n",
      "\n",
      "Test Result:\n",
      "\u001b[92mPASSED\u001b[0m\n",
      "\n",
      "\n",
      "\u001b[1mSUMMARY\u001b[0m\n",
      "\n",
      "TOTAL: 11, \u001b[92mPASSED\u001b[0m: 11, \u001b[91mFAILED\u001b[0m: 0\n"
     ]
    }
   ],
   "source": [
    "binary_search_results = evaluate_test_cases(count_rotations_binary, tests)"
   ]
  },
  {
   "cell_type": "markdown",
   "id": "7c346f09",
   "metadata": {
    "papermill": {
     "duration": 0.011271,
     "end_time": "2022-06-26T10:12:46.811973",
     "exception": false,
     "start_time": "2022-06-26T10:12:46.800702",
     "status": "completed"
    },
    "tags": []
   },
   "source": [
    "### 9. Analyze the algorithm's complexity and identify inefficiencies, if any.\n",
    "\n",
    "_**Q: What is the worst-case complexity (running time) of the algorithm expressed in the Big O Notation? Assume that the size of the list is `N` (uppercase).**_\n",
    "\n",
    "Hint: Count the maximum number of iterations it may take for the algorithm to return the result."
   ]
  },
  {
   "cell_type": "code",
   "execution_count": 25,
   "id": "41cc510d",
   "metadata": {
    "execution": {
     "iopub.execute_input": "2022-06-26T10:12:46.835936Z",
     "iopub.status.busy": "2022-06-26T10:12:46.835576Z",
     "iopub.status.idle": "2022-06-26T10:12:46.840297Z",
     "shell.execute_reply": "2022-06-26T10:12:46.839103Z"
    },
    "papermill": {
     "duration": 0.017192,
     "end_time": "2022-06-26T10:12:46.842441",
     "exception": false,
     "start_time": "2022-06-26T10:12:46.825249",
     "status": "completed"
    },
    "tags": []
   },
   "outputs": [],
   "source": [
    "binary_search_complexity = \"O(logN)\""
   ]
  },
  {
   "cell_type": "markdown",
   "id": "4eedb5ca",
   "metadata": {
    "papermill": {
     "duration": 0.008156,
     "end_time": "2022-06-26T10:12:46.859192",
     "exception": false,
     "start_time": "2022-06-26T10:12:46.851036",
     "status": "completed"
    },
    "tags": []
   },
   "source": [
    "## Bonus Questions\n"
   ]
  },
  {
   "cell_type": "markdown",
   "id": "a5a4f441",
   "metadata": {
    "papermill": {
     "duration": 0.008281,
     "end_time": "2022-06-26T10:12:46.875958",
     "exception": false,
     "start_time": "2022-06-26T10:12:46.867677",
     "status": "completed"
    },
    "tags": []
   },
   "source": [
    "### Optional Bonus 1: Using the Generic Binary Search Algorithm\n",
    "\n",
    "_**Q (Optional): Implement the `count_rotations` function using the generic `binary_search` function.**_\n",
    "\n",
    "Hint: You'll need to define the condition which returns `\"found\"`, `\"left\"` or `\"right\"` by performing the appropriate check on the middle position in the range.\n",
    "\n",
    "### Optional Bonus 2: Handling repeating numbers\n",
    "\n",
    "So far we've assumed that the numbers in the list are unique. What if the numbers can repeat? E.g. `[5, 6, 6, 9, 9, 9, 0, 0, 2, 3, 3, 3, 3, 4, 4]`. Can you modify your solution to handle this special case?\n",
    "\n",
    "\n",
    "_**Q (Optional): Create additional test cases where the list can contain repeating numbers**_\n",
    "\n",
    "### Optional Bonus 3: Searching in a Rotated List\n",
    "\n",
    "Here's a slightly advanced extension to this problem:\n",
    "\n",
    "> You are given list of numbers, obtained by rotating a sorted list an unknown number of times. You are also given a target number. Write a function to find the position of the target number within the rotated list. You can assume that all the numbers in the list are unique.\n",
    ">\n",
    "> Example: In the rotated sorted list `[5, 6, 9, 0, 2, 3, 4]`, the target number `2` occurs at position `5`."
   ]
  }
 ],
 "metadata": {
  "kernelspec": {
   "display_name": "Python 3",
   "language": "python",
   "name": "python3"
  },
  "language_info": {
   "codemirror_mode": {
    "name": "ipython",
    "version": 3
   },
   "file_extension": ".py",
   "mimetype": "text/x-python",
   "name": "python",
   "nbconvert_exporter": "python",
   "pygments_lexer": "ipython3",
   "version": "3.7.12"
  },
  "papermill": {
   "default_parameters": {},
   "duration": 10.423918,
   "end_time": "2022-06-26T10:12:47.504938",
   "environment_variables": {},
   "exception": null,
   "input_path": "__notebook__.ipynb",
   "output_path": "__notebook__.ipynb",
   "parameters": {},
   "start_time": "2022-06-26T10:12:37.081020",
   "version": "2.3.4"
  }
 },
 "nbformat": 4,
 "nbformat_minor": 5
}
